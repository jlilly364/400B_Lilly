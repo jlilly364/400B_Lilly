{
 "cells": [
  {
   "cell_type": "markdown",
   "metadata": {},
   "source": [
    "# In Class Lab 1\n",
    "\n",
    "## Part A:  The Local Standard of Rest\n",
    "Proper motion of Sgr A* from Reid & Brunthaler 2004\n",
    "$\\mu = 6.379$ mas/yr \n",
    "\n",
    "Peculiar motion of the sun, $v_\\odot$ = 12.24 km/s  (Schonrich 2010)\n",
    "\n",
    "\n",
    "$v_{tan} = 4.74 \\frac{\\mu}{\\rm mas/yr} \\frac{R_o}{\\rm kpc} = V_{LSR} + v_\\odot$\n",
    "\n",
    "\n",
    "### a)\n",
    "\n",
    "Create a function called VLSR to compute the local standard of res (V$_{LSR}$).\n",
    "\n",
    "The function should take as input: the solar radius (R$_o$), the proper motion (mu)\n",
    "and the peculiar motion of the sun in the $v_\\odot$ direction.\n",
    "\n",
    "Compute V$_{LSR}$ using three different values R$_o$: \n",
    "1. Water Maser Distance for the Sun :  R$_o$ = 8.34 kpc   (Reid 2014 ApJ 783) \n",
    "2. GRAVITY Collaboration Distance for the Sun:  R$_o$ = 8.178 kpc   (Abuter+2019 A&A 625)\n",
    "3. Value for Distance to Sun listed in Sparke & Gallagher : R$_o$ = 7.9 kpc \n"
   ]
  },
  {
   "cell_type": "code",
   "execution_count": 17,
   "metadata": {},
   "outputs": [],
   "source": [
    "import numpy as np"
   ]
  },
  {
   "cell_type": "code",
   "execution_count": 11,
   "metadata": {},
   "outputs": [],
   "source": [
    "# Function to compute local standard of rest velocity (VLSR)\n",
    "\n",
    "# Working equation:\n",
    "# 4.74*mu*R0 = VLSR +vsun\n",
    "# The function wil use the following equation\n",
    "# VLSR = 4.74*mu*R0 - vsun\n",
    "\n",
    "def VLSR(R0, mu=6.379, vsun=12.24):\n",
    "    # Inputs:\n",
    "    # R0 = distance from Sun to Galactic Center (in kpc)\n",
    "    # mu = proper motion of Sgr A* (in mas/yr): Default is from Reid & Brunthaler 2004\n",
    "    # vsun = peculiar motion of Sun in v-direction (in km/s): Default is from Schonrich+2010\n",
    "    \n",
    "    # Returns:\n",
    "    # VLSR: local standard of rest (in km/s)\n",
    "    \n",
    "    return (4.74*mu*R0)-vsun"
   ]
  },
  {
   "cell_type": "code",
   "execution_count": 12,
   "metadata": {},
   "outputs": [],
   "source": [
    "R0Reid = 8.34 # Distance to Galactic Center from Reid et al. 2014 (in kpc)\n",
    "R0Gravity = 8.178 # Distance to Galactic Center from GRAVITY Collaboration (Abuter + 2019)\n",
    "R0SG = 7.9 # Distance to Galactic center from textbook by Sparke & Gallagher"
   ]
  },
  {
   "cell_type": "code",
   "execution_count": 14,
   "metadata": {},
   "outputs": [
    {
     "name": "stdout",
     "output_type": "stream",
     "text": [
      "239.9320764\n"
     ]
    }
   ],
   "source": [
    "# Compute VLSR using Reid et al. 2014 value for R0 (in kpc)\n",
    "VLSR_Reid = VLSR(R0Reid)\n",
    "print(VLSR_Reid)"
   ]
  },
  {
   "cell_type": "code",
   "execution_count": 15,
   "metadata": {},
   "outputs": [
    {
     "name": "stdout",
     "output_type": "stream",
     "text": [
      "235.03376988000002\n"
     ]
    }
   ],
   "source": [
    "# Compute VLSR using GRAVITY value for R0 (in kpc)\n",
    "VLSR_Gravity = VLSR(R0Gravity)\n",
    "print(VLSR_Gravity)"
   ]
  },
  {
   "cell_type": "code",
   "execution_count": 16,
   "metadata": {},
   "outputs": [
    {
     "name": "stdout",
     "output_type": "stream",
     "text": [
      "226.628034\n"
     ]
    }
   ],
   "source": [
    "# Compute VLSR using Sparke & Gallagher value for R0 (in kpc)\n",
    "VLSR_SG = VLSR(R0SG)\n",
    "print(VLSR_SG)"
   ]
  },
  {
   "cell_type": "markdown",
   "metadata": {},
   "source": [
    "### b)\n",
    "\n",
    "compute the orbital period of the sun using R$_o$ from the GRAVITY Collaboration (assume circular orbit)\n",
    "\n",
    "Note that 1 km/s $\\sim$ 1kpc/Gyr"
   ]
  },
  {
   "cell_type": "code",
   "execution_count": 20,
   "metadata": {},
   "outputs": [
    {
     "name": "stdout",
     "output_type": "stream",
     "text": [
      "0.20780161788713317\n"
     ]
    }
   ],
   "source": [
    "# Orbital period (T) of the Sun, using R0 from GRAVITY Collaboration\n",
    "# T = 2piR/V (units: kpc/(km/s) ~ kpc/(kpc/Gyr) ~ Gyr)\n",
    "# V = V_tan = VLSR + Vun\n",
    "Vtan = VLSR_Gravity + 12.24\n",
    "T_Gravity = 2*np.pi*R0Gravity/Vtan\n",
    "print(T_Gravity)"
   ]
  },
  {
   "cell_type": "markdown",
   "metadata": {},
   "source": [
    "### c)\n",
    "\n",
    "Compute the number of rotations about the GC over the age of the universe (13.8 Gyr)"
   ]
  },
  {
   "cell_type": "code",
   "execution_count": 22,
   "metadata": {},
   "outputs": [
    {
     "name": "stdout",
     "output_type": "stream",
     "text": [
      "66.40949257428511\n"
     ]
    }
   ],
   "source": [
    "# Determine the number of rotations about the Galactic Center\n",
    "# Age of Universe / Orbital Period\n",
    "print(13.8/T_Gravity)"
   ]
  },
  {
   "cell_type": "markdown",
   "metadata": {},
   "source": [
    "## Part B  Dark Matter Density Profiles\n",
    "\n",
    "### a)\n",
    "Try out Fitting Rotation Curves \n",
    "[here](http://wittman.physics.ucdavis.edu/Animations/RotationCurve/GalacticRotation.html)\n",
    "\n",
    "\n",
    "### b)\n",
    "\n",
    "In the Isothermal Sphere model, what is the mass enclosed within the solar radius (R$_o$) in units of $10^{10}$ M$_\\odot$? \n",
    "\n",
    "Recall that for the Isothermal sphere :\n",
    "$\\rho(r) = \\frac{V_{LSR}^2}{4\\pi G r^2}$\n",
    "\n",
    "Where $G$ = 4.4988e-6 kpc$^3$/Gyr$^2$/M$_\\odot$\n",
    "\n",
    "What about at 260 kpc (in units of 10$^{12}$ M$_\\odot$) ? "
   ]
  },
  {
   "cell_type": "code",
   "execution_count": 23,
   "metadata": {},
   "outputs": [],
   "source": [
    "# Gravitational Constant\n",
    "G = 4.4988e-6 #kpc^3/Gyr^2/Msun"
   ]
  },
  {
   "cell_type": "code",
   "execution_count": 27,
   "metadata": {},
   "outputs": [],
   "source": [
    "# Function below will compute mass enclosed within a given radius assuming Isothermal Sphere Model\n",
    "# Density profile: rho = VLSR^2/(4*pi*G*R^2)\n",
    "# Mass = Integrate Rho*dV\n",
    "#        Integrate Rho * 4*pi*r^2*dr\n",
    "#        Integrate VLSR^2 / (4*pi*G*r^2) * 4*pi*r^2 * dr\n",
    "#        Integrate VLSR^2/G * dr\n",
    "#        VLSR^2/G * r\n",
    "\n",
    "def  MassIso(r, VLSR=235):\n",
    "    # Inputs: Using d\n",
    "    #     VLSR: local standard of rest velocity (in km/s): Using defaulty VLSR from GRAVITY collaboration (defined above)\n",
    "    #     r: distance from Galactic Center (in kpc)\n",
    "    # Returns:\n",
    "    #     Mass enclose in Msun\n",
    "    return VLSR**2/G*r"
   ]
  },
  {
   "cell_type": "code",
   "execution_count": 29,
   "metadata": {},
   "outputs": [
    {
     "name": "stdout",
     "output_type": "stream",
     "text": [
      "10.038900373432917\n"
     ]
    }
   ],
   "source": [
    "# Compute mass enclosed within R0\n",
    "\n",
    "MIsoSolar = MassIso(R0Gravity)\n",
    "print(MIsoSolar/1e10) # units of 1e10 Msun"
   ]
  },
  {
   "cell_type": "code",
   "execution_count": 31,
   "metadata": {},
   "outputs": [
    {
     "name": "stdout",
     "output_type": "stream",
     "text": [
      "319.1628878812128\n"
     ]
    }
   ],
   "source": [
    "# Compute mass enclosed within 260 kpc\n",
    "MIso260 = MassIso(260)\n",
    "print(MIso260/1e10) # units of 1e10 Msun"
   ]
  },
  {
   "cell_type": "markdown",
   "metadata": {},
   "source": [
    "## c) \n",
    "\n",
    "The Leo I satellite is one of the fastest moving satellite galaxies we know. \n",
    "\n",
    "\n",
    "It is moving with 3D velocity of magnitude: Vtot = 196 km/s at a distance of 260 kpc (Sohn 2013 ApJ 768)\n",
    "\n",
    "If we assume that Leo I is moving at the escape speed:\n",
    "\n",
    "$v_{esc}^2 = 2|\\Phi| = 2 \\int G \\frac{\\rho(r)}{r}dV $ \n",
    "\n",
    "and assuming the Milky Way is well modeled by a Hernquist Sphere with a scale radius of $a$= 30 kpc, what is the minimum mass of the Milky Way (in units of $10^{12}$ M$_\\odot$) ?  \n",
    "\n",
    "How does this compare to estimates of the mass assuming the Isothermal Sphere model at 260 kpc (from your answer above)"
   ]
  },
  {
   "cell_type": "code",
   "execution_count": 34,
   "metadata": {},
   "outputs": [],
   "source": [
    "# Potential for a Hernquist Sphere\n",
    "# Phi = -G*M/(r+a)\n",
    "# Using the Hernquist Potential, the equation for the escape speed becomes:\n",
    "#  vesc^2 = 2*G*M/(r+a)\n",
    "\n",
    "# Rearranging the escape speed equation for M\n",
    "# M = vesc^2/2/G*(r+a)\n",
    "#   = 196^2/2/G*(260+30)\n",
    "    \n",
    "# Function that will determine the total halo masss needed to set a given escape speed at a given distance\n",
    "# assuming a Hernquist profile for the DM Halo\n",
    "\n",
    "def MassFromVesc(vesc,a,r):\n",
    "    # Inputs:\n",
    "    #       vesc: escape speed or speed of satellite (in km/s)\n",
    "    #       a: Hernquist scale length (in kpc)\n",
    "    #       r: distance from Galactic Center (in kpc)\n",
    "    # Return:\n",
    "    #       Total Mass in MSun\n",
    "    return vesc**2/2/G*(r+a)"
   ]
  },
  {
   "cell_type": "code",
   "execution_count": 35,
   "metadata": {},
   "outputs": [
    {
     "name": "stdout",
     "output_type": "stream",
     "text": [
      "1.2381790699742152\n"
     ]
    }
   ],
   "source": [
    "# Mass needed to keep Leo I bound assuming Hernquist profile\n",
    "MLeoI = MassFromVesc(196,30,260)\n",
    "print(MLeoI/1e12)"
   ]
  },
  {
   "cell_type": "code",
   "execution_count": 36,
   "metadata": {},
   "outputs": [
    {
     "data": {
      "text/plain": [
       "2.577679558804521"
      ]
     },
     "execution_count": 36,
     "metadata": {},
     "output_type": "execute_result"
    }
   ],
   "source": [
    "MIso260/MLeoI"
   ]
  },
  {
   "cell_type": "code",
   "execution_count": null,
   "metadata": {},
   "outputs": [],
   "source": []
  }
 ],
 "metadata": {
  "kernelspec": {
   "display_name": "Python 3",
   "language": "python",
   "name": "python3"
  },
  "language_info": {
   "codemirror_mode": {
    "name": "ipython",
    "version": 3
   },
   "file_extension": ".py",
   "mimetype": "text/x-python",
   "name": "python",
   "nbconvert_exporter": "python",
   "pygments_lexer": "ipython3",
   "version": "3.6.4"
  }
 },
 "nbformat": 4,
 "nbformat_minor": 2
}
