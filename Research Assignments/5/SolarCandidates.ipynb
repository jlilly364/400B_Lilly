{
 "cells": [
  {
   "cell_type": "markdown",
   "metadata": {},
   "source": [
    "# The topic of my project is visualizing the fate of Sun-like stars in M31 throughout the course of the merger\n",
    "\n",
    "# Question I'm answering: How can I center a visualization of the merger on the Milky Way (ANSWERED) What criteria should I use to select solar analogs? How do I differentiate the solar analogs from other disk particles?\n",
    "\n",
    "# Plot to make\n",
    "# a) Plot of all 3 galaxies centered on the MW (x: Position (kpc), y: Position (kpc), disk particles, all snapshots; visualize merger from MW perspective -> highlights fate of solar analogs in context of merger) COMPLETED\n",
    "\n",
    "# b) Like plot above, but with solar analogs color-coated\n",
    "\n",
    "# c) Histogram of solar analog distance from center of M31 (x: Distance (kpc), y: Number of analogs, solar analogs from disk particles, test with first snapshot and some snapshot after pass-by; quantitatively describe fate of Sun-like stars in M31 -> shows distribution as time passes)"
   ]
  },
  {
   "cell_type": "markdown",
   "metadata": {},
   "source": [
    "# 1) Import Modules"
   ]
  },
  {
   "cell_type": "code",
   "execution_count": 2,
   "metadata": {},
   "outputs": [],
   "source": [
    "# ASTR 400B Project\n",
    "\n",
    "# import modules\n",
    "import numpy as np\n",
    "import astropy.units as u\n",
    "from astropy.constants import G\n",
    "from IPython.display import Image\n",
    "\n",
    "# import plotting modules\n",
    "import matplotlib\n",
    "import matplotlib.pyplot as plt\n",
    "from matplotlib.colors import LogNorm\n",
    "%matplotlib inline\n",
    "from mpl_toolkits.mplot3d import Axes3D\n",
    "\n",
    "# my modules\n",
    "from ReadFile import Read\n",
    "from CenterOfMass2 import CenterOfMass\n",
    "from MassProfile import MassProfile\n"
   ]
  },
  {
   "cell_type": "markdown",
   "metadata": {},
   "source": [
    "# 2) Function to plot Local Group at given set of snapshots (centered on MW)"
   ]
  },
  {
   "cell_type": "code",
   "execution_count": 50,
   "metadata": {
    "scrolled": false
   },
   "outputs": [
    {
     "ename": "TypeError",
     "evalue": "COM_P() takes 2 positional arguments but 3 were given",
     "output_type": "error",
     "traceback": [
      "\u001b[1;31m---------------------------------------------------------------------------\u001b[0m",
      "\u001b[1;31mTypeError\u001b[0m                                 Traceback (most recent call last)",
      "\u001b[1;32m<ipython-input-50-a16956876c62>\u001b[0m in \u001b[0;36m<module>\u001b[1;34m\u001b[0m\n\u001b[0;32m     22\u001b[0m \u001b[1;33m\u001b[0m\u001b[0m\n\u001b[0;32m     23\u001b[0m     \u001b[1;31m# Find CoM components for position and velocity of the MW\u001b[0m\u001b[1;33m\u001b[0m\u001b[1;33m\u001b[0m\u001b[1;33m\u001b[0m\u001b[0m\n\u001b[1;32m---> 24\u001b[1;33m     \u001b[0mCOMP_MW\u001b[0m \u001b[1;33m=\u001b[0m \u001b[0mCOMD_MW\u001b[0m\u001b[1;33m.\u001b[0m\u001b[0mCOM_P\u001b[0m\u001b[1;33m(\u001b[0m\u001b[1;36m0.1\u001b[0m\u001b[1;33m,\u001b[0m\u001b[1;36m2\u001b[0m\u001b[1;33m)\u001b[0m\u001b[1;33m\u001b[0m\u001b[1;33m\u001b[0m\u001b[0m\n\u001b[0m\u001b[0;32m     25\u001b[0m     \u001b[0mCOMV_MW\u001b[0m \u001b[1;33m=\u001b[0m \u001b[0mCOMD_MW\u001b[0m\u001b[1;33m.\u001b[0m\u001b[0mCOM_V\u001b[0m\u001b[1;33m(\u001b[0m\u001b[0mCOMP_MW\u001b[0m\u001b[1;33m[\u001b[0m\u001b[1;36m0\u001b[0m\u001b[1;33m]\u001b[0m\u001b[1;33m,\u001b[0m\u001b[0mCOMP_MW\u001b[0m\u001b[1;33m[\u001b[0m\u001b[1;36m1\u001b[0m\u001b[1;33m]\u001b[0m\u001b[1;33m,\u001b[0m\u001b[0mCOMP_MW\u001b[0m\u001b[1;33m[\u001b[0m\u001b[1;36m2\u001b[0m\u001b[1;33m]\u001b[0m\u001b[1;33m)\u001b[0m\u001b[1;33m\u001b[0m\u001b[1;33m\u001b[0m\u001b[0m\n\u001b[0;32m     26\u001b[0m \u001b[1;33m\u001b[0m\u001b[0m\n",
      "\u001b[1;31mTypeError\u001b[0m: COM_P() takes 2 positional arguments but 3 were given"
     ]
    }
   ],
   "source": [
    "# Define range of snapshots to use (first, last, how frequently to choose another snapshot)\n",
    "snap_ids = np.arange(0,1,1)\n",
    "\n",
    "for i, snap_id in enumerate(snap_ids):\n",
    "        \n",
    "    # Compose the data filename (be careful about the folder)\n",
    "    # Add string of filenumber to value 000\n",
    "    ilbl = '000' + str(snap_id)\n",
    "\n",
    "    # Remove all but last 3 digits of string\n",
    "    ilbl = ilbl[-3:]\n",
    "\n",
    "    # Assign filename based on snapshot and galaxy inputs\n",
    "    MW_file = 'C:/Users/Jimmy/Downloads/MW/MW_' + ilbl + '.txt'\n",
    "    M31_file = 'C:/Users/Jimmy/Downloads/M31/M31_' + ilbl + '.txt'\n",
    "    M33_file = 'C:/Users/Jimmy/Downloads/M33/M33_' + ilbl + '.txt'\n",
    "    \n",
    "    # Define CoM object for each galaxy using disk particles (2)\n",
    "    COMD_MW = CenterOfMass(MW_file,2)\n",
    "    COMD_M31 = CenterOfMass(M31_file,2)\n",
    "    COMD_M33 = CenterOfMass(M33_file,2)\n",
    "    \n",
    "    # Find CoM components for position and velocity of the MW\n",
    "    COMP_MW = COMD_MW.COM_P(0.1,2)\n",
    "    COMV_MW = COMD_MW.COM_V(COMP_MW[0],COMP_MW[1],COMP_MW[2]) \n",
    "    \n",
    "    # Center the MW in the images\n",
    "    xD_MW = COMD_MW.x - COMP_MW[0].value\n",
    "    yD_MW = COMD_MW.y - COMP_MW[1].value\n",
    "    zD_MW = COMD_MW.z - COMP_MW[2].value\n",
    "\n",
    "    # Define positions of M31 Disk Particles\n",
    "    test = COMD_M31.x\n",
    "    print(test)\n",
    "    xD_M31 = COMD_M31.x - COMP_MW[0].value\n",
    "    yD_M31 = COMD_M31.y - COMP_MW[1].value\n",
    "    zD_M31 = COMD_M31.z - COMP_MW[2].value\n",
    "    \n",
    "    # Define positions of M33 Disk Particles\n",
    "    xD_M33 = COMD_M33.x - COMP_MW[0].value\n",
    "    yD_M33 = COMD_M33.y - COMP_MW[1].value\n",
    "    zD_M33 = COMD_M33.z - COMP_MW[2].value\n",
    "    \n",
    "    # Define figure and axis object\n",
    "    fig, ax= plt.subplots(figsize=(10, 10))\n",
    "\n",
    "    # Plot galaxies as histogram of their disk particles (in x and y)\n",
    "    plt.hist2d(xD_MW,yD_MW,bins=200,norm=LogNorm(),cmap='magma')\n",
    "    plt.hist2d(xD_M31,yD_M31,bins=200,norm=LogNorm(),cmap='magma')\n",
    "    plt.hist2d(xD_M33,yD_M33,bins=200,norm=LogNorm(),cmap='magma')\n",
    "\n",
    "    # Plot colorbar of disk density\n",
    "    plt.colorbar()\n",
    "    \n",
    "    # Add axis labels\n",
    "    plt.xlabel('x (kpc)', fontsize=22)\n",
    "    plt.ylabel('y( kpc)', fontsize=22)\n",
    "    \n",
    "    # Set axis limits\n",
    "    plt.xlim(-500,500)\n",
    "    plt.ylim(-500,500)\n",
    "    \n",
    "    # Adjust tick label font size\n",
    "    label_size = 22\n",
    "    matplotlib.rcParams['xtick.labelsize'] = label_size \n",
    "    matplotlib.rcParams['ytick.labelsize'] = label_size\n",
    "    \n",
    "    # Save image to a file\n",
    "    #plt.savefig('C:/Users/Jimmy/Downloads/Simulation3/Simulation3_{0}.png'.format(ilbl), rasterized=True, dpi=100)"
   ]
  },
  {
   "cell_type": "markdown",
   "metadata": {},
   "source": [
    "# 3) Function to identify solar analogs"
   ]
  },
  {
   "cell_type": "code",
   "execution_count": 51,
   "metadata": {},
   "outputs": [
    {
     "name": "stdout",
     "output_type": "stream",
     "text": [
      "[ -28.0645 -493.565  -471.257  ... -376.899  -377.191  -380.713 ]\n",
      "[-371.905 -376.915 -379.508 ... -378.312 -386.396 -383.868]\n"
     ]
    }
   ],
   "source": [
    "# Function to identify solar analogs\n",
    "# Should be run once at beginning of code --> candidates will have same indices throughout simulation\n",
    "def SolarAnalogs(galaxy, r = 8.178, v = 239):\n",
    "    # Inputs:\n",
    "    #     galaxy: name of galaxy to find Sun-like disk particles within (MW,M31,or M33)\n",
    "    #     r: Distance of Sun from center of the MW (currently 8.178 kpc from GRAVITY collaboration)\n",
    "    #     v: Local Standard of Rest velocity of Sun (currently 239 km/s from van der marel+ 2012b)\n",
    "    # Returns: \n",
    "    #     array of solar candidates in galaxy of interest\n",
    "    \n",
    "    # Define filename of first snapshot of M31\n",
    "    file = 'C:/Users/Jimmy/400B_Lilly/{0}_000.txt'.format(galaxy)\n",
    "    \n",
    "    # Check to relate COMD.x to data['x']\n",
    "    #time, particles, data = Read(file)\n",
    "    #print(data['x'])\n",
    "    \n",
    "    # Create array to store indexes of disk particles                        \n",
    "    index = np.where(data['type'] == 2)\n",
    "    \n",
    "    # Define CoM object for M31 using disk particles\n",
    "    COMD = CenterOfMass(file,2)\n",
    "    \n",
    "    # Find CoM components for position and velocity of galaxy\n",
    "    COMP = COMD.COM_P(0.1)\n",
    "    COMV = COMD.COM_V(COMP[0],COMP[1],COMP[2])\n",
    "    \n",
    "    # Adjust disk particle positions w.r.t. CoM of host galaxy\n",
    "    xD2 = COMD.x #- COMP[0].value\n",
    "    print(xD2)\n",
    "    yD2 = COMD.y - COMP[1].value\n",
    "    zD2 = COMD.z - COMP[2].value\n",
    "    \n",
    "    # Adjust disk particle velocities w.r.t. CoM of host galaxy\n",
    "    vD2 = COMD.vx - COMV[0].value\n",
    "    vD2 = COMD.vy - COMV[1].value\n",
    "    vD2 = COMD.vz - COMV[2].value\n",
    "    \n",
    "    # Calculate disk particle distances and velocities to center of host galaxy\n",
    "    #R = np.sqrt(xD**2+y**2+z**2)\n",
    "    #V = np.sqrt(vx**2+vy**2+vz**2)\n",
    "    \n",
    "    # Select particles within 10% of Sun's distance and V_LSR\n",
    "    #candidates = np.where((R <= 1.1*r) & (R >= 0.9*r) & (V <= 1.1*v) & (V >= 0.9*v))\n",
    "    #print(len(candidates))\n",
    "    #plt.hist2d(xD,yD,bins=200,norm=LogNorm(),cmap='magma')\n",
    "    #return candidates\n",
    "SolarAnalogs('M31')"
   ]
  },
  {
   "cell_type": "code",
   "execution_count": null,
   "metadata": {},
   "outputs": [],
   "source": []
  }
 ],
 "metadata": {
  "kernelspec": {
   "display_name": "Python 3",
   "language": "python",
   "name": "python3"
  },
  "language_info": {
   "codemirror_mode": {
    "name": "ipython",
    "version": 3
   },
   "file_extension": ".py",
   "mimetype": "text/x-python",
   "name": "python",
   "nbconvert_exporter": "python",
   "pygments_lexer": "ipython3",
   "version": "3.7.4"
  }
 },
 "nbformat": 4,
 "nbformat_minor": 2
}
